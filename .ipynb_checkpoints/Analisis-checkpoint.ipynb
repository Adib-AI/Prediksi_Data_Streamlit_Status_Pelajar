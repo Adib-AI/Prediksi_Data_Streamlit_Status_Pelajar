{
 "cells": [
  {
   "cell_type": "markdown",
   "metadata": {},
   "source": [
    "# Persiapan\n",
    "\n",
    "## Menyiapkan library yang dibutuhkan"
   ]
  },
  {
   "cell_type": "markdown",
   "metadata": {},
   "source": [
    "# Proyek Akhir: enyelesaikan Permasalahan Institusi Pendidikan\n",
    "\n",
    "* Nama: Adib Ahmad Istiqlal\n",
    "* Email: adibahmadistiqlal22@gmail.com\n",
    "* Id Dicoding: sir_newton_turing"
   ]
  },
  {
   "cell_type": "code",
   "execution_count": 2,
   "metadata": {},
   "outputs": [],
   "source": [
    "from pandas import Series, DataFrame\n",
    "import pandas as pd\n",
    "import numpy as np\n",
    "import matplotlib.pyplot as plt\n",
    "import seaborn as sns\n",
    "\n",
    "from sklearn.preprocessing import LabelEncoder, MinMaxScaler, StandardScaler\n",
    "from sklearn.linear_model import Lasso\n",
    "from sklearn.model_selection import train_test_split\n",
    "from imblearn.over_sampling import SMOTE\n",
    "from sklearn.tree import DecisionTreeClassifier"
   ]
  },
  {
   "cell_type": "markdown",
   "metadata": {},
   "source": [
    "## Menyiapkan data yang akan digunakan"
   ]
  },
  {
   "cell_type": "code",
   "execution_count": null,
   "metadata": {},
   "outputs": [],
   "source": [
    "df = pd.read_csv('dataset/data.csv', sep = ';')\n",
    "df.head()"
   ]
  },
  {
   "cell_type": "markdown",
   "metadata": {},
   "source": [
    "# Data Understanding\n",
    "\n",
    "\n",
    "Pada data yang digunakan terdapat 37 features dengan 4424 data yang setiap features memiliki definisinya tersendiri. Definisi ini dapat dilihat pada point dibawah\n",
    "\n",
    "| Nama Variabel                          | Deskripsi                                                                                                                                                                                                                                      |\n",
    "|---------------------------------------|----------------------------------------------------------------------------------------------------------------------------------------------------------------------------------------------------------------------------------------------|\n",
    "| Marital Status                        | 1 - single, 2 - married, 3 - widower, 4 - divorced, 5 - facto union, 6 - legally separated                                                                                                            |\n",
    "| Application mode                      | Mode pendaftaran siswa (berbagai aturan dan fase penerimaan berdasarkan situasi siswa, seperti jalur reguler, jalur internasional, perubahan kursus, dll.)                                            |\n",
    "| Application order                     | Urutan pilihan aplikasi (0 - pilihan pertama; 9 - pilihan terakhir)                                                                                                                                   |\n",
    "| Course                                | Kursus atau program studi yang dipilih oleh siswa (contoh: Teknik Informatika, Desain Komunikasi, Keperawatan, dll.)                                                                                   |\n",
    "| Daytime/evening attendance            | Waktu kehadiran siswa (1 - daytime; 0 - evening)                                                                                                                                                       |\n",
    "| Previous qualification                | Kualifikasi akademik sebelumnya (contoh: pendidikan dasar, menengah, diploma, gelar sarjana, dll.)                                                                                                   |\n",
    "| Previous qualification (grade)       | Nilai kualifikasi akademik sebelumnya (antara 0 hingga 200)                                                                                                                                           |\n",
    "| Nationality                           | Kewarganegaraan siswa (contoh: 1 - Portuguese, 6 - Spanish, 41 - Brazilian, dll.)                                                                                                                     |\n",
    "| Mother's qualification                | Tingkat pendidikan ibu siswa (contoh: 1 - Secondary Education, 3 - Higher Education - Degree, 5 - Doctorate, dll.)                                                                                  |\n",
    "| Father's qualification                | Tingkat pendidikan ayah siswa (contoh: 1 - Secondary Education, 3 - Higher Education - Degree, 5 - Doctorate, dll.)                                                                                  |\n",
    "| Mother's occupation                   | Pekerjaan ibu siswa (contoh: 0 - Student, 3 - Intermediate Level Technicians and Professions, 5 - Personal Services, Security and Safety Workers and Sellers, dll.)                                   |\n",
    "| Father's occupation                   | Pekerjaan ayah siswa (contoh: 0 - Student, 3 - Intermediate Level Technicians and Professions, 5 - Personal Services, Security and Safety Workers and Sellers, dll.)                                  |\n",
    "| Admission grade                       | Nilai masuk siswa (antara 0 hingga 200)                                                                                                                                                              |\n",
    "| Displaced                             | Apakah siswa pindah tempat tinggal untuk studi (1 - yes; 0 - no)                                                                                                                                      |\n",
    "| Educational special needs             | Apakah siswa memiliki kebutuhan pendidikan khusus (1 - yes; 0 - no)                                                                                                                                  |\n",
    "| Debtor                                | Apakah siswa memiliki tunggakan pembayaran (1 - yes; 0 - no)                                                                                                                                        |\n",
    "| Tuition fees up to date               | Apakah siswa telah melunasi biaya kuliah (1 - yes; 0 - no)                                                                                                                                          |\n",
    "| Gender                                | Jenis kelamin siswa (1 - male; 0 - female)                                                                                                                                                          |\n",
    "| Scholarship holder                    | Apakah siswa menerima beasiswa (1 - yes; 0 - no)                                                                                                                                                    |\n",
    "| Age at enrollment                     | Usia siswa pada saat pendaftaran                                                                                                                                                                    |\n",
    "| International                         | Apakah siswa berasal dari luar negeri (1 - yes; 0 - no)                                                                                                                                            |\n",
    "| Curricular units 1st sem (credited)   | Jumlah unit kurikulum yang diakui di semester pertama                                                                                                                                               |\n",
    "| Curricular units 1st sem (enrolled)   | Jumlah unit kurikulum yang diikuti di semester pertama                                                                                                                                              |\n",
    "| Curricular units 1st sem (evaluations)| Jumlah evaluasi pada unit kurikulum di semester pertama                                                                                                                                             |\n",
    "| Curricular units 1st sem (approved)   | Jumlah unit kurikulum yang disetujui di semester pertama                                                                                                                                            |\n",
    "| Curricular units 1st sem (grade)      | Nilai rata-rata di semester pertama (antara 0 hingga 20)                                                                                                                                            |\n",
    "| Curricular units 1st sem (without evaluations) | Jumlah unit kurikulum tanpa evaluasi di semester pertama                                                                                                                                         |\n",
    "| Curricular units 2nd sem (credited)   | Jumlah unit kurikulum yang diakui di semester kedua                                                                                                                                                 |\n",
    "| Curricular units 2nd sem (enrolled)   | Jumlah unit kurikulum yang diikuti di semester kedua                                                                                                                                                |\n",
    "| Curricular units 2nd sem (evaluations)| Jumlah evaluasi pada unit kurikulum di semester kedua                                                                                                                                               |\n",
    "| Curricular units 2nd sem (approved)   | Jumlah unit kurikulum yang disetujui di semester kedua                                                                                                                                              |\n",
    "| Curricular units 2nd sem (grade)      | Nilai rata-rata di semester kedua (antara 0 hingga 20)                                                                                                                                             |\n",
    "| Curricular units 2nd sem (without evaluations) | Jumlah unit kurikulum tanpa evaluasi di semester kedua                                                                                                                                         |\n",
    "| Unemployment rate                     | Tingkat pengangguran (%)                                                                                                                                                                            |\n",
    "| Inflation rate                        | Tingkat inflasi (%)                                                                                                                                                                                 |\n",
    "| GDP                                   | Produk Domestik Bruto (PDB)                                                                                                                                                                         |\n",
    "| Target                                | Target klasifikasi siswa (dropout, enrolled, atau graduate) di akhir durasi studi normal                                                                                                            |"
   ]
  },
  {
   "cell_type": "code",
   "execution_count": null,
   "metadata": {},
   "outputs": [],
   "source": [
    "df.info()"
   ]
  },
  {
   "cell_type": "code",
   "execution_count": null,
   "metadata": {},
   "outputs": [],
   "source": [
    "df.describe(include=\"object\").T"
   ]
  },
  {
   "cell_type": "code",
   "execution_count": null,
   "metadata": {},
   "outputs": [],
   "source": [
    "df.describe(include=\"number\").T"
   ]
  },
  {
   "cell_type": "markdown",
   "metadata": {},
   "source": [
    "Pada data yang digunakna terdapat 3 kelas yang terdiri dari 3 kelas yaitu dropout, enrolled, and graduate. Namun permasalahan bisnis yang ingin diselesaikan ialah ingin mengetahui secepat mungkin siswa yang mungkin akan melakukan dropout sehingga dapat diberi bimbingan khusus. Oleh karena itu nantinya pada proses machine learning yang digunakan hanya berfokus terhadap 2 kelas yaitu dropout dan graduate. Sehingga analisis lebih mengkrucut\n",
    "\n",
    "Selain itu statistik data tiap features numerik dan kategorik tidak memiliki missing values. Namun tahapan selanjutnya ingin melakukan hubungan feature dan seleski feature"
   ]
  },
  {
   "cell_type": "code",
   "execution_count": null,
   "metadata": {},
   "outputs": [],
   "source": [
    "df = df[(df['Status'] == \"Graduate\") | \n",
    "        (df['Status'] == \"Dropout\") ]\n",
    "df.head()"
   ]
  },
  {
   "cell_type": "markdown",
   "metadata": {},
   "source": [
    "## EDA\n",
    "\n",
    "Pada proses ini akan memecah feature yang bersifat kontinus dan diskrit agar dikelompokkan saat memahami persebaran data"
   ]
  },
  {
   "cell_type": "markdown",
   "metadata": {},
   "source": [
    "### Numerik Kontinus"
   ]
  },
  {
   "cell_type": "code",
   "execution_count": null,
   "metadata": {},
   "outputs": [],
   "source": [
    "float_col = df.select_dtypes(include='float')\n",
    "\n",
    "df[float_col.T.index].hist(bins = 50, figsize=(20,20))\n",
    "plt.show()"
   ]
  },
  {
   "cell_type": "markdown",
   "metadata": {},
   "source": [
    "Pada hasil mendapatkan informasi\n",
    "* GDP memiliki nilai yang tidak wajar dimana nilai GDP dibawah 0\n",
    "* Nilai pada semester 1 dan 2 memiliki jumlah nilai 0 (terburuk) paling tinggi. Hal ini mmembuktikan terdapat banyak siswa banyak yang gagal"
   ]
  },
  {
   "cell_type": "markdown",
   "metadata": {},
   "source": [
    "### Numerik Diskrit"
   ]
  },
  {
   "cell_type": "code",
   "execution_count": null,
   "metadata": {},
   "outputs": [],
   "source": [
    "int_col = df.select_dtypes(include='integer')\n",
    "\n",
    "df[int_col.T.index].hist(bins = 50, figsize=(20,20))\n",
    "plt.show()"
   ]
  },
  {
   "cell_type": "markdown",
   "metadata": {},
   "source": [
    "* Jumlah semester yang diikuti dari semester 1 dan semester 2 mengalami penurunan yang diambil Mahasiswa\n",
    "* Proporsi perempuan lebih tinggi dibanding perempuan\n",
    "* Penerima beasiswa lebih rendah dibanding yang tidak menerima beasiswa\n",
    "* Hanya sebagai kecil mahaiswa yang berumur di atas 30 tahun dan paling banyak dibawah 20\n",
    "* Umur ini searah dengan status perkawinan yang tertinggi dengan status single\n",
    "* Pendidikan Ibu dan Ayah mahasiswa kebanyakan tidak diketahui dan lulusan SMA\n",
    "\n",
    "Berdasarkan distribusi data di atas bisa dijadikan salah satu pemicu motivasi yang bisa diberikan instruktur (yang terutama pada pendidikan status orang tua, umur dan status perkawinan dan beasiswa) agar dapat memberikan semangat kepada mahasiswanya untuk dapat lulus lebih cepat "
   ]
  },
  {
   "cell_type": "markdown",
   "metadata": {},
   "source": [
    "## Distribusi Feature Kategorik"
   ]
  },
  {
   "cell_type": "code",
   "execution_count": null,
   "metadata": {},
   "outputs": [],
   "source": [
    "sns.countplot(data=df, x='Status', hue = 'Status')\n",
    "plt.xlabel('Status', labelpad= 20)\n",
    "plt.ylabel('Frequency', labelpad= 20)\n",
    "plt.show()"
   ]
  },
  {
   "cell_type": "markdown",
   "metadata": {},
   "source": [
    "Proporsi mahasiswa yang dropout memiliki proporsi yang hampir 50% dari total data. Informasi bisa ditelah dari analisis sebelumnya yaitu pendidikan status orang tua, umur dan status perkawinan"
   ]
  },
  {
   "cell_type": "code",
   "execution_count": 10,
   "metadata": {},
   "outputs": [],
   "source": [
    "def categorical_plot(features, df, segment_feature=None):\n",
    "    n_features = len(features)\n",
    "    n_cols = 2 \n",
    "    n_rows = (n_features + n_cols - 1) // n_cols \n",
    "\n",
    "    fig, axes = plt.subplots(n_rows, n_cols, figsize=(10, 5 * n_rows))\n",
    "    axes = axes.flatten()\n",
    "\n",
    "    for i, feature in enumerate(features):\n",
    "        if segment_feature:\n",
    "            sns.countplot(data=df, x=segment_feature, ax=axes[i], hue=feature)\n",
    "            axes[i].set_title(f'Distribution of {feature}')\n",
    "            axes[i].set_xticklabels(axes[i].get_xticklabels(), rotation=-45)\n",
    "        else:\n",
    "            sns.countplot(data=df, x=feature, ax=axes[i])\n",
    "            axes[i].set_title(f'Distribution of {feature}')\n",
    "\n",
    "    for j in range(len(features), len(axes)):\n",
    "        fig.delaxes(axes[j])\n",
    "\n",
    "    plt.tight_layout()\n",
    "    plt.show()"
   ]
  },
  {
   "cell_type": "code",
   "execution_count": null,
   "metadata": {},
   "outputs": [],
   "source": [
    "categorical_plot(\n",
    "    features=[\"Mothers_qualification\", \"Fathers_qualification\", \"Age_at_enrollment\", \n",
    "              \"Scholarship_holder\", \"Marital_status\", \"Fathers_occupation\"],\n",
    "    df=df,\n",
    "    segment_feature= 'Status'\n",
    ")"
   ]
  },
  {
   "cell_type": "markdown",
   "metadata": {},
   "source": [
    "Ternyata dari sisi pendidikan orang tua mahasiswa yang memiliki pendidikan maksimal SMA memiliki motivasi lebih tinggi dibanding mahasiswa yang pendidikannya S1. Anehnya, Mahasiswa yang memiliki orang tua pendidikan S1 merupakan jumlah terbanyak yang berstatus dropout. Uniknya juga pekerjaan dari mahasiswa yang dropout maupun yang graduate orangnya tua sedang menempuh pendidikan. Lainnya, penerima beasiswa terdapat 100 orang yang memiliki status dropout.\n",
    "\n",
    "Hasil ini memang membuktikan tidak adanya motivasi yang dimiliki mahasiswa dropout yang bisa menjadikan pilihan terbaik untuk memberikan motivasi oleh instruktur. Selanjutnya akan diliat bagaimana hubungan antar feature tersebut"
   ]
  },
  {
   "cell_type": "markdown",
   "metadata": {},
   "source": [
    "## Pearson Correlation\n",
    "\n",
    "Untuk menguji korelasi, akan dilakukan transformasi data sementara pada feature Target menjadi numerik dengan metode Encoder menggunakan for-if one line"
   ]
  },
  {
   "cell_type": "code",
   "execution_count": 12,
   "metadata": {},
   "outputs": [],
   "source": [
    "df['Status_Numerik'] = [1 if i == \"Graduate\" else 0 for i in df['Status']]"
   ]
  },
  {
   "cell_type": "code",
   "execution_count": null,
   "metadata": {},
   "outputs": [],
   "source": [
    "plt.figure(figsize=(20,15))\n",
    "sns.heatmap(df[['Previous_qualification_grade', 'Admission_grade',\n",
    "       'Curricular_units_1st_sem_grade', 'Curricular_units_2nd_sem_grade',\n",
    "       'Unemployment_rate', 'Inflation_rate', 'GDP', \"Status_Numerik\"]].corr(),\n",
    "            annot = True, annot_kws = {'fontsize':17}, cmap = 'RdBu', linewidth = 0.3, fmt='.2f')\n",
    "plt.title('Correlation each feature continous Numerik To Status', fontsize = 20)\n",
    "plt.show()"
   ]
  },
  {
   "cell_type": "code",
   "execution_count": null,
   "metadata": {},
   "outputs": [],
   "source": [
    "import seaborn as sns\n",
    "import matplotlib.pyplot as plt\n",
    "\n",
    "# Menghitung korelasi dan hanya mengambil kolom terakhir (Status_Numerik)\n",
    "corr_last = df[['Marital_status', 'Application_mode', 'Application_order', 'Course',\n",
    "                'Daytime_evening_attendance', 'Previous_qualification', 'Nacionality',\n",
    "                'Mothers_qualification', 'Fathers_qualification', 'Mothers_occupation',\n",
    "                'Fathers_occupation', 'Displaced', 'Educational_special_needs',\n",
    "                'Debtor', 'Tuition_fees_up_to_date', 'Gender', 'Scholarship_holder',\n",
    "                'Age_at_enrollment', 'International',\n",
    "                'Curricular_units_1st_sem_credited',\n",
    "                'Curricular_units_1st_sem_enrolled',\n",
    "                'Curricular_units_1st_sem_evaluations',\n",
    "                'Curricular_units_1st_sem_approved',\n",
    "                'Curricular_units_1st_sem_without_evaluations',\n",
    "                'Curricular_units_2nd_sem_credited',\n",
    "                'Curricular_units_2nd_sem_enrolled',\n",
    "                'Curricular_units_2nd_sem_evaluations',\n",
    "                'Curricular_units_2nd_sem_approved',\n",
    "                'Curricular_units_2nd_sem_without_evaluations', 'Status_Numerik']].corr()\n",
    "\n",
    "# Hanya memilih korelasi dengan 'Status_Numerik' dan membuat DataFrame 1D\n",
    "corr_last = corr_last[['Status_Numerik']].T\n",
    "\n",
    "# Plot heatmap\n",
    "plt.figure(figsize=(10, 15))\n",
    "sns.heatmap(corr_last.T, annot=True, annot_kws={'fontsize': 10}, cmap='RdBu', linewidth=0.3, fmt='.2f')\n",
    "plt.title('Correlation with Status_Numerik To Status', fontsize=20)\n",
    "plt.show()"
   ]
  },
  {
   "cell_type": "markdown",
   "metadata": {},
   "source": [
    "Setelah diuji hubungan korelasi, yang memiliki pengaruh cukup besar terhadap status mahasiswa ialah umur dan yang langsung berhubungan dengan pelajaran seperti jumlah semester (baik evaluasi, enroll dan kredit). Hal ini bisa menunjukkan pembentukan motivasi memiliki karakteristik yang berbeda.\n",
    "\n",
    "\n",
    "Selanjutnya melakukan preprocessing dengan metode yang digunakan\n",
    "* Normalisasi : Untuk normalisasi sendiri akan menguji penggabungan jenis 2 metode yaitu untuk data yang bersifat kontinus akan memanfaatkan z-score dan yang bersifat diskrit akan memanfaatkan min-max\n",
    "* Label Encoder\n",
    "* Feature Selection LASSO\n",
    "* Split Data\n",
    "* SMOTE"
   ]
  },
  {
   "cell_type": "markdown",
   "metadata": {},
   "source": [
    "# Data Preparation"
   ]
  },
  {
   "cell_type": "code",
   "execution_count": 15,
   "metadata": {},
   "outputs": [],
   "source": [
    "df.drop(\"Status_Numerik\", axis=1, inplace=True)"
   ]
  },
  {
   "cell_type": "code",
   "execution_count": null,
   "metadata": {},
   "outputs": [],
   "source": [
    "df = df.reset_index(drop=True)\n",
    "df"
   ]
  },
  {
   "cell_type": "code",
   "execution_count": null,
   "metadata": {},
   "outputs": [],
   "source": [
    "df.info()"
   ]
  },
  {
   "cell_type": "markdown",
   "metadata": {},
   "source": [
    "## Normalisasi"
   ]
  },
  {
   "cell_type": "code",
   "execution_count": 20,
   "metadata": {},
   "outputs": [],
   "source": [
    "norm_scaler_zsocre = StandardScaler()\n",
    "norm_scaler_minmax = MinMaxScaler()\n",
    "\n",
    "df[df.select_dtypes(include=\"float\").columns] = norm_scaler_zsocre.fit_transform(df[\n",
    "    df.select_dtypes(include=\"float\").columns])\n",
    "\n",
    "df[df.select_dtypes(include=\"integer\").columns] = norm_scaler_minmax.fit_transform(df[\n",
    "    df.select_dtypes(include=\"integer\").columns])"
   ]
  },
  {
   "cell_type": "markdown",
   "metadata": {},
   "source": [
    "## Label Encoder"
   ]
  },
  {
   "cell_type": "code",
   "execution_count": null,
   "metadata": {},
   "outputs": [],
   "source": [
    "encode = LabelEncoder()\n",
    "df['Status'] = encode.fit_transform(df['Status'])\n",
    "df.head()"
   ]
  },
  {
   "cell_type": "markdown",
   "metadata": {},
   "source": [
    "## Feature Selection LASSO"
   ]
  },
  {
   "cell_type": "code",
   "execution_count": null,
   "metadata": {},
   "outputs": [],
   "source": [
    "lasso = Lasso(alpha = 0.05, max_iter = 100, fit_intercept = False, positive = True)\n",
    "lasso.fit(df.iloc[:,:-1], df.iloc[:,-1])\n",
    "\n",
    "coeff = DataFrame(df.iloc[:,:-1].columns)\n",
    "coeff['Coefficient Estimate'] = Series(lasso.coef_)\n",
    "coeff = coeff.sort_values(by = \"Coefficient Estimate\", ascending=False).reset_index(drop=True)\n",
    "coeff.rename(columns={0:\"Features\"}, inplace= True)\n",
    "coeff"
   ]
  },
  {
   "cell_type": "code",
   "execution_count": null,
   "metadata": {},
   "outputs": [],
   "source": [
    "df_fs = df[coeff[\"Features\"][:4].values].reset_index(drop = True)\n",
    "df_fs[\"Status\"] = df[\"Status\"]\n",
    "df_fs"
   ]
  },
  {
   "cell_type": "markdown",
   "metadata": {},
   "source": [
    "## Split Data"
   ]
  },
  {
   "cell_type": "code",
   "execution_count": null,
   "metadata": {},
   "outputs": [],
   "source": []
  }
 ],
 "metadata": {
  "kernelspec": {
   "display_name": "Python 3 (ipykernel)",
   "language": "python",
   "name": "python3"
  },
  "language_info": {
   "codemirror_mode": {
    "name": "ipython",
    "version": 3
   },
   "file_extension": ".py",
   "mimetype": "text/x-python",
   "name": "python",
   "nbconvert_exporter": "python",
   "pygments_lexer": "ipython3",
   "version": "3.9.21"
  }
 },
 "nbformat": 4,
 "nbformat_minor": 4
}
